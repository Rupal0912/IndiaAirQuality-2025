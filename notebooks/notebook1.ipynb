{
 "cells": [
  {
   "cell_type": "markdown",
   "metadata": {},
   "source": [
    "***\"Pollution Pulse: Mapping India’s Air Quality Snapshot\"***\n"
   ]
  },
  {
   "cell_type": "code",
   "execution_count": 26,
   "metadata": {},
   "outputs": [],
   "source": [
    "#import libraries\n",
    "import pandas as pd\n",
    "import matplotlib.pyplot as plt\n",
    "import seaborn as sns"
   ]
  },
  {
   "cell_type": "code",
   "execution_count": 3,
   "metadata": {},
   "outputs": [
    {
     "data": {
      "text/html": [
       "<div>\n",
       "<style scoped>\n",
       "    .dataframe tbody tr th:only-of-type {\n",
       "        vertical-align: middle;\n",
       "    }\n",
       "\n",
       "    .dataframe tbody tr th {\n",
       "        vertical-align: top;\n",
       "    }\n",
       "\n",
       "    .dataframe thead th {\n",
       "        text-align: right;\n",
       "    }\n",
       "</style>\n",
       "<table border=\"1\" class=\"dataframe\">\n",
       "  <thead>\n",
       "    <tr style=\"text-align: right;\">\n",
       "      <th></th>\n",
       "      <th>country</th>\n",
       "      <th>state</th>\n",
       "      <th>city</th>\n",
       "      <th>station</th>\n",
       "      <th>last_update</th>\n",
       "      <th>latitude</th>\n",
       "      <th>longitude</th>\n",
       "      <th>pollutant_id</th>\n",
       "      <th>pollutant_min</th>\n",
       "      <th>pollutant_max</th>\n",
       "      <th>pollutant_avg</th>\n",
       "    </tr>\n",
       "  </thead>\n",
       "  <tbody>\n",
       "    <tr>\n",
       "      <th>0</th>\n",
       "      <td>India</td>\n",
       "      <td>Andhra_Pradesh</td>\n",
       "      <td>Vijayawada</td>\n",
       "      <td>Kanuru, Vijayawada - APPCB</td>\n",
       "      <td>04-04-2025 14:00:00</td>\n",
       "      <td>16.486692</td>\n",
       "      <td>80.699436</td>\n",
       "      <td>OZONE</td>\n",
       "      <td>20.0</td>\n",
       "      <td>32.0</td>\n",
       "      <td>21.0</td>\n",
       "    </tr>\n",
       "    <tr>\n",
       "      <th>1</th>\n",
       "      <td>India</td>\n",
       "      <td>Andhra_Pradesh</td>\n",
       "      <td>Vijayawada</td>\n",
       "      <td>Rajiv Gandhi Park, Vijayawada - APPCB</td>\n",
       "      <td>04-04-2025 14:00:00</td>\n",
       "      <td>16.509717</td>\n",
       "      <td>80.612222</td>\n",
       "      <td>SO2</td>\n",
       "      <td>10.0</td>\n",
       "      <td>13.0</td>\n",
       "      <td>11.0</td>\n",
       "    </tr>\n",
       "    <tr>\n",
       "      <th>2</th>\n",
       "      <td>India</td>\n",
       "      <td>Andhra_Pradesh</td>\n",
       "      <td>Vijayawada</td>\n",
       "      <td>Rajiv Gandhi Park, Vijayawada - APPCB</td>\n",
       "      <td>04-04-2025 14:00:00</td>\n",
       "      <td>16.509717</td>\n",
       "      <td>80.612222</td>\n",
       "      <td>CO</td>\n",
       "      <td>30.0</td>\n",
       "      <td>41.0</td>\n",
       "      <td>32.0</td>\n",
       "    </tr>\n",
       "    <tr>\n",
       "      <th>3</th>\n",
       "      <td>India</td>\n",
       "      <td>Andhra_Pradesh</td>\n",
       "      <td>Vijayawada</td>\n",
       "      <td>Rajiv Nagar, Vijayawada - APPCB</td>\n",
       "      <td>04-04-2025 14:00:00</td>\n",
       "      <td>16.554731</td>\n",
       "      <td>80.649110</td>\n",
       "      <td>NO2</td>\n",
       "      <td>14.0</td>\n",
       "      <td>18.0</td>\n",
       "      <td>15.0</td>\n",
       "    </tr>\n",
       "    <tr>\n",
       "      <th>4</th>\n",
       "      <td>India</td>\n",
       "      <td>Andhra_Pradesh</td>\n",
       "      <td>Visakhapatnam</td>\n",
       "      <td>GVM Corporation, Visakhapatnam - APPCB</td>\n",
       "      <td>04-04-2025 14:00:00</td>\n",
       "      <td>17.720000</td>\n",
       "      <td>83.300000</td>\n",
       "      <td>NO2</td>\n",
       "      <td>28.0</td>\n",
       "      <td>68.0</td>\n",
       "      <td>43.0</td>\n",
       "    </tr>\n",
       "  </tbody>\n",
       "</table>\n",
       "</div>"
      ],
      "text/plain": [
       "  country           state           city  \\\n",
       "0   India  Andhra_Pradesh     Vijayawada   \n",
       "1   India  Andhra_Pradesh     Vijayawada   \n",
       "2   India  Andhra_Pradesh     Vijayawada   \n",
       "3   India  Andhra_Pradesh     Vijayawada   \n",
       "4   India  Andhra_Pradesh  Visakhapatnam   \n",
       "\n",
       "                                  station          last_update   latitude  \\\n",
       "0              Kanuru, Vijayawada - APPCB  04-04-2025 14:00:00  16.486692   \n",
       "1   Rajiv Gandhi Park, Vijayawada - APPCB  04-04-2025 14:00:00  16.509717   \n",
       "2   Rajiv Gandhi Park, Vijayawada - APPCB  04-04-2025 14:00:00  16.509717   \n",
       "3         Rajiv Nagar, Vijayawada - APPCB  04-04-2025 14:00:00  16.554731   \n",
       "4  GVM Corporation, Visakhapatnam - APPCB  04-04-2025 14:00:00  17.720000   \n",
       "\n",
       "   longitude pollutant_id  pollutant_min  pollutant_max  pollutant_avg  \n",
       "0  80.699436        OZONE           20.0           32.0           21.0  \n",
       "1  80.612222          SO2           10.0           13.0           11.0  \n",
       "2  80.612222           CO           30.0           41.0           32.0  \n",
       "3  80.649110          NO2           14.0           18.0           15.0  \n",
       "4  83.300000          NO2           28.0           68.0           43.0  "
      ]
     },
     "execution_count": 3,
     "metadata": {},
     "output_type": "execute_result"
    }
   ],
   "source": [
    "# load the dataset\n",
    "df= pd.read_csv(r\"C:\\Users\\Lenovo\\OneDrive\\Desktop\\AIR_QUALITY\\dataset\\air_quality.csv\")\n",
    "df.head()"
   ]
  },
  {
   "cell_type": "code",
   "execution_count": 4,
   "metadata": {},
   "outputs": [
    {
     "name": "stdout",
     "output_type": "stream",
     "text": [
      "<class 'pandas.core.frame.DataFrame'>\n",
      "RangeIndex: 3229 entries, 0 to 3228\n",
      "Data columns (total 11 columns):\n",
      " #   Column         Non-Null Count  Dtype  \n",
      "---  ------         --------------  -----  \n",
      " 0   country        3229 non-null   object \n",
      " 1   state          3229 non-null   object \n",
      " 2   city           3229 non-null   object \n",
      " 3   station        3229 non-null   object \n",
      " 4   last_update    3229 non-null   object \n",
      " 5   latitude       3229 non-null   float64\n",
      " 6   longitude      3229 non-null   float64\n",
      " 7   pollutant_id   3229 non-null   object \n",
      " 8   pollutant_min  3026 non-null   float64\n",
      " 9   pollutant_max  3026 non-null   float64\n",
      " 10  pollutant_avg  3026 non-null   float64\n",
      "dtypes: float64(5), object(6)\n",
      "memory usage: 277.6+ KB\n"
     ]
    }
   ],
   "source": [
    "#basic inspection\n",
    "df.info()"
   ]
  },
  {
   "cell_type": "code",
   "execution_count": 5,
   "metadata": {},
   "outputs": [
    {
     "data": {
      "text/html": [
       "<div>\n",
       "<style scoped>\n",
       "    .dataframe tbody tr th:only-of-type {\n",
       "        vertical-align: middle;\n",
       "    }\n",
       "\n",
       "    .dataframe tbody tr th {\n",
       "        vertical-align: top;\n",
       "    }\n",
       "\n",
       "    .dataframe thead th {\n",
       "        text-align: right;\n",
       "    }\n",
       "</style>\n",
       "<table border=\"1\" class=\"dataframe\">\n",
       "  <thead>\n",
       "    <tr style=\"text-align: right;\">\n",
       "      <th></th>\n",
       "      <th>latitude</th>\n",
       "      <th>longitude</th>\n",
       "      <th>pollutant_min</th>\n",
       "      <th>pollutant_max</th>\n",
       "      <th>pollutant_avg</th>\n",
       "    </tr>\n",
       "  </thead>\n",
       "  <tbody>\n",
       "    <tr>\n",
       "      <th>count</th>\n",
       "      <td>3229.000000</td>\n",
       "      <td>3229.000000</td>\n",
       "      <td>3026.000000</td>\n",
       "      <td>3026.000000</td>\n",
       "      <td>3026.00000</td>\n",
       "    </tr>\n",
       "    <tr>\n",
       "      <th>mean</th>\n",
       "      <td>22.154725</td>\n",
       "      <td>78.746203</td>\n",
       "      <td>22.024124</td>\n",
       "      <td>84.134171</td>\n",
       "      <td>47.08427</td>\n",
       "    </tr>\n",
       "    <tr>\n",
       "      <th>std</th>\n",
       "      <td>5.595920</td>\n",
       "      <td>4.945867</td>\n",
       "      <td>24.072022</td>\n",
       "      <td>93.823734</td>\n",
       "      <td>50.30609</td>\n",
       "    </tr>\n",
       "    <tr>\n",
       "      <th>min</th>\n",
       "      <td>8.514909</td>\n",
       "      <td>70.909168</td>\n",
       "      <td>1.000000</td>\n",
       "      <td>1.000000</td>\n",
       "      <td>1.00000</td>\n",
       "    </tr>\n",
       "    <tr>\n",
       "      <th>25%</th>\n",
       "      <td>18.910000</td>\n",
       "      <td>75.565602</td>\n",
       "      <td>5.000000</td>\n",
       "      <td>19.000000</td>\n",
       "      <td>12.00000</td>\n",
       "    </tr>\n",
       "    <tr>\n",
       "      <th>50%</th>\n",
       "      <td>23.016834</td>\n",
       "      <td>77.494094</td>\n",
       "      <td>14.000000</td>\n",
       "      <td>54.500000</td>\n",
       "      <td>31.00000</td>\n",
       "    </tr>\n",
       "    <tr>\n",
       "      <th>75%</th>\n",
       "      <td>26.786682</td>\n",
       "      <td>80.699436</td>\n",
       "      <td>31.000000</td>\n",
       "      <td>108.000000</td>\n",
       "      <td>62.00000</td>\n",
       "    </tr>\n",
       "    <tr>\n",
       "      <th>max</th>\n",
       "      <td>34.066206</td>\n",
       "      <td>94.636574</td>\n",
       "      <td>326.000000</td>\n",
       "      <td>500.000000</td>\n",
       "      <td>396.00000</td>\n",
       "    </tr>\n",
       "  </tbody>\n",
       "</table>\n",
       "</div>"
      ],
      "text/plain": [
       "          latitude    longitude  pollutant_min  pollutant_max  pollutant_avg\n",
       "count  3229.000000  3229.000000    3026.000000    3026.000000     3026.00000\n",
       "mean     22.154725    78.746203      22.024124      84.134171       47.08427\n",
       "std       5.595920     4.945867      24.072022      93.823734       50.30609\n",
       "min       8.514909    70.909168       1.000000       1.000000        1.00000\n",
       "25%      18.910000    75.565602       5.000000      19.000000       12.00000\n",
       "50%      23.016834    77.494094      14.000000      54.500000       31.00000\n",
       "75%      26.786682    80.699436      31.000000     108.000000       62.00000\n",
       "max      34.066206    94.636574     326.000000     500.000000      396.00000"
      ]
     },
     "execution_count": 5,
     "metadata": {},
     "output_type": "execute_result"
    }
   ],
   "source": [
    "df.describe()"
   ]
  },
  {
   "cell_type": "code",
   "execution_count": 6,
   "metadata": {},
   "outputs": [
    {
     "data": {
      "text/plain": [
       "country            0\n",
       "state              0\n",
       "city               0\n",
       "station            0\n",
       "last_update        0\n",
       "latitude           0\n",
       "longitude          0\n",
       "pollutant_id       0\n",
       "pollutant_min    203\n",
       "pollutant_max    203\n",
       "pollutant_avg    203\n",
       "dtype: int64"
      ]
     },
     "execution_count": 6,
     "metadata": {},
     "output_type": "execute_result"
    }
   ],
   "source": [
    "df.isnull().sum()"
   ]
  },
  {
   "cell_type": "code",
   "execution_count": 7,
   "metadata": {},
   "outputs": [
    {
     "data": {
      "text/plain": [
       "Index(['country', 'state', 'city', 'station', 'last_update', 'latitude',\n",
       "       'longitude', 'pollutant_id', 'pollutant_min', 'pollutant_max',\n",
       "       'pollutant_avg'],\n",
       "      dtype='object')"
      ]
     },
     "execution_count": 7,
     "metadata": {},
     "output_type": "execute_result"
    }
   ],
   "source": [
    "df.columns"
   ]
  },
  {
   "cell_type": "code",
   "execution_count": 8,
   "metadata": {},
   "outputs": [],
   "source": [
    "# Replace 'NA' with NaN and convert to numeric\n",
    "df[['pollutant_min', 'pollutant_max', 'pollutant_avg']] = df[['pollutant_min', 'pollutant_max', 'pollutant_avg']].replace('NA', pd.NA)\n",
    "for col in ['pollutant_min', 'pollutant_max', 'pollutant_avg']:\n",
    "    df[col] = pd.to_numeric(df[col], errors='coerce')\n",
    "\n",
    "#drop rows with all  three pollutant values as NaN\n",
    "df = df.dropna(subset=['pollutant_min', 'pollutant_max', 'pollutant_avg'], how='all')"
   ]
  },
  {
   "cell_type": "code",
   "execution_count": 10,
   "metadata": {},
   "outputs": [
    {
     "name": "stdout",
     "output_type": "stream",
     "text": [
      "Number of duplicates: 0\n"
     ]
    }
   ],
   "source": [
    "#Check duplicates\n",
    "duplicates= df.duplicated(subset=['station','pollutant_id','last_update'])\n",
    "print(f\"Number of duplicates: {duplicates.sum()}\")\n"
   ]
  },
  {
   "cell_type": "code",
   "execution_count": null,
   "metadata": {},
   "outputs": [
    {
     "name": "stdout",
     "output_type": "stream",
     "text": [
      "Potential PM2.5 outliers: 6       316.0\n",
      "533     351.0\n",
      "1193    396.0\n",
      "1418    299.0\n",
      "1642    326.0\n",
      "Name: pollutant_avg, dtype: float64\n"
     ]
    }
   ],
   "source": [
    "#Outlier check\n",
    "pm25_avrage =df[df['pollutant_id']=='PM2.5']['pollutant_avg']\n",
    "mean, std = pm25_avrage.mean() , pm25_avrage.std()\n",
    "outliers= pm25_avrage[(pm25_avrage > mean + 3*std) | (pm25_avrage <mean - 3*std)]\n",
    "print(f\"Potential PM2.5 outliers: {outliers}\")"
   ]
  },
  {
   "cell_type": "code",
   "execution_count": null,
   "metadata": {},
   "outputs": [
    {
     "name": "stdout",
     "output_type": "stream",
     "text": [
      "Invalid coordinates: 0\n"
     ]
    }
   ],
   "source": [
    "#geospatial validation\n",
    "validlatitute =df['latitude'].between(8,37)  #India's latitude range\n",
    "validlong= df['longitude'].between(68,97) # India's longitude range\n",
    "print(f\"Invalid coordinates: {((~validlatitute) | (~validlong)).sum()}\")"
   ]
  },
  {
   "cell_type": "code",
   "execution_count": 17,
   "metadata": {},
   "outputs": [
    {
     "name": "stdout",
     "output_type": "stream",
     "text": [
      "Cleaned data is  saved!\n"
     ]
    }
   ],
   "source": [
    "#save the cleaned data to a new csv file\n",
    "df.to_csv('../dataset/air_quality_cleaned.csv', index=False)\n",
    "print(\"Cleaned data is  saved!\")"
   ]
  },
  {
   "cell_type": "markdown",
   "metadata": {},
   "source": [
    "***EDA and Basic Visualizations***"
   ]
  },
  {
   "cell_type": "code",
   "execution_count": 19,
   "metadata": {},
   "outputs": [
    {
     "name": "stdout",
     "output_type": "stream",
     "text": [
      "Data loaded successfully!\n"
     ]
    },
    {
     "data": {
      "text/html": [
       "<div>\n",
       "<style scoped>\n",
       "    .dataframe tbody tr th:only-of-type {\n",
       "        vertical-align: middle;\n",
       "    }\n",
       "\n",
       "    .dataframe tbody tr th {\n",
       "        vertical-align: top;\n",
       "    }\n",
       "\n",
       "    .dataframe thead th {\n",
       "        text-align: right;\n",
       "    }\n",
       "</style>\n",
       "<table border=\"1\" class=\"dataframe\">\n",
       "  <thead>\n",
       "    <tr style=\"text-align: right;\">\n",
       "      <th></th>\n",
       "      <th>country</th>\n",
       "      <th>state</th>\n",
       "      <th>city</th>\n",
       "      <th>station</th>\n",
       "      <th>last_update</th>\n",
       "      <th>latitude</th>\n",
       "      <th>longitude</th>\n",
       "      <th>pollutant_id</th>\n",
       "      <th>pollutant_min</th>\n",
       "      <th>pollutant_max</th>\n",
       "      <th>pollutant_avg</th>\n",
       "    </tr>\n",
       "  </thead>\n",
       "  <tbody>\n",
       "    <tr>\n",
       "      <th>0</th>\n",
       "      <td>India</td>\n",
       "      <td>Andhra_Pradesh</td>\n",
       "      <td>Vijayawada</td>\n",
       "      <td>Kanuru, Vijayawada - APPCB</td>\n",
       "      <td>04-04-2025 14:00:00</td>\n",
       "      <td>16.486692</td>\n",
       "      <td>80.699436</td>\n",
       "      <td>OZONE</td>\n",
       "      <td>20.0</td>\n",
       "      <td>32.0</td>\n",
       "      <td>21.0</td>\n",
       "    </tr>\n",
       "    <tr>\n",
       "      <th>1</th>\n",
       "      <td>India</td>\n",
       "      <td>Andhra_Pradesh</td>\n",
       "      <td>Vijayawada</td>\n",
       "      <td>Rajiv Gandhi Park, Vijayawada - APPCB</td>\n",
       "      <td>04-04-2025 14:00:00</td>\n",
       "      <td>16.509717</td>\n",
       "      <td>80.612222</td>\n",
       "      <td>SO2</td>\n",
       "      <td>10.0</td>\n",
       "      <td>13.0</td>\n",
       "      <td>11.0</td>\n",
       "    </tr>\n",
       "    <tr>\n",
       "      <th>2</th>\n",
       "      <td>India</td>\n",
       "      <td>Andhra_Pradesh</td>\n",
       "      <td>Vijayawada</td>\n",
       "      <td>Rajiv Gandhi Park, Vijayawada - APPCB</td>\n",
       "      <td>04-04-2025 14:00:00</td>\n",
       "      <td>16.509717</td>\n",
       "      <td>80.612222</td>\n",
       "      <td>CO</td>\n",
       "      <td>30.0</td>\n",
       "      <td>41.0</td>\n",
       "      <td>32.0</td>\n",
       "    </tr>\n",
       "    <tr>\n",
       "      <th>3</th>\n",
       "      <td>India</td>\n",
       "      <td>Andhra_Pradesh</td>\n",
       "      <td>Vijayawada</td>\n",
       "      <td>Rajiv Nagar, Vijayawada - APPCB</td>\n",
       "      <td>04-04-2025 14:00:00</td>\n",
       "      <td>16.554731</td>\n",
       "      <td>80.649110</td>\n",
       "      <td>NO2</td>\n",
       "      <td>14.0</td>\n",
       "      <td>18.0</td>\n",
       "      <td>15.0</td>\n",
       "    </tr>\n",
       "    <tr>\n",
       "      <th>4</th>\n",
       "      <td>India</td>\n",
       "      <td>Andhra_Pradesh</td>\n",
       "      <td>Visakhapatnam</td>\n",
       "      <td>GVM Corporation, Visakhapatnam - APPCB</td>\n",
       "      <td>04-04-2025 14:00:00</td>\n",
       "      <td>17.720000</td>\n",
       "      <td>83.300000</td>\n",
       "      <td>NO2</td>\n",
       "      <td>28.0</td>\n",
       "      <td>68.0</td>\n",
       "      <td>43.0</td>\n",
       "    </tr>\n",
       "  </tbody>\n",
       "</table>\n",
       "</div>"
      ],
      "text/plain": [
       "  country           state           city  \\\n",
       "0   India  Andhra_Pradesh     Vijayawada   \n",
       "1   India  Andhra_Pradesh     Vijayawada   \n",
       "2   India  Andhra_Pradesh     Vijayawada   \n",
       "3   India  Andhra_Pradesh     Vijayawada   \n",
       "4   India  Andhra_Pradesh  Visakhapatnam   \n",
       "\n",
       "                                  station          last_update   latitude  \\\n",
       "0              Kanuru, Vijayawada - APPCB  04-04-2025 14:00:00  16.486692   \n",
       "1   Rajiv Gandhi Park, Vijayawada - APPCB  04-04-2025 14:00:00  16.509717   \n",
       "2   Rajiv Gandhi Park, Vijayawada - APPCB  04-04-2025 14:00:00  16.509717   \n",
       "3         Rajiv Nagar, Vijayawada - APPCB  04-04-2025 14:00:00  16.554731   \n",
       "4  GVM Corporation, Visakhapatnam - APPCB  04-04-2025 14:00:00  17.720000   \n",
       "\n",
       "   longitude pollutant_id  pollutant_min  pollutant_max  pollutant_avg  \n",
       "0  80.699436        OZONE           20.0           32.0           21.0  \n",
       "1  80.612222          SO2           10.0           13.0           11.0  \n",
       "2  80.612222           CO           30.0           41.0           32.0  \n",
       "3  80.649110          NO2           14.0           18.0           15.0  \n",
       "4  83.300000          NO2           28.0           68.0           43.0  "
      ]
     },
     "execution_count": 19,
     "metadata": {},
     "output_type": "execute_result"
    }
   ],
   "source": [
    "df = pd.read_csv('../dataset/air_quality_cleaned.csv')\n",
    "print(\"Data loaded successfully!\")\n",
    "df.head()"
   ]
  },
  {
   "cell_type": "code",
   "execution_count": 24,
   "metadata": {},
   "outputs": [
    {
     "name": "stdout",
     "output_type": "stream",
     "text": [
      "Pollutant summary stats\n",
      "\n"
     ]
    },
    {
     "data": {
      "text/html": [
       "<div>\n",
       "<style scoped>\n",
       "    .dataframe tbody tr th:only-of-type {\n",
       "        vertical-align: middle;\n",
       "    }\n",
       "\n",
       "    .dataframe tbody tr th {\n",
       "        vertical-align: top;\n",
       "    }\n",
       "\n",
       "    .dataframe thead tr th {\n",
       "        text-align: left;\n",
       "    }\n",
       "\n",
       "    .dataframe thead tr:last-of-type th {\n",
       "        text-align: right;\n",
       "    }\n",
       "</style>\n",
       "<table border=\"1\" class=\"dataframe\">\n",
       "  <thead>\n",
       "    <tr>\n",
       "      <th></th>\n",
       "      <th colspan=\"4\" halign=\"left\">pollutant_avg</th>\n",
       "    </tr>\n",
       "    <tr>\n",
       "      <th></th>\n",
       "      <th>mean</th>\n",
       "      <th>min</th>\n",
       "      <th>max</th>\n",
       "      <th>count</th>\n",
       "    </tr>\n",
       "    <tr>\n",
       "      <th>pollutant_id</th>\n",
       "      <th></th>\n",
       "      <th></th>\n",
       "      <th></th>\n",
       "      <th></th>\n",
       "    </tr>\n",
       "  </thead>\n",
       "  <tbody>\n",
       "    <tr>\n",
       "      <th>CO</th>\n",
       "      <td>36.848812</td>\n",
       "      <td>2.0</td>\n",
       "      <td>129.0</td>\n",
       "      <td>463</td>\n",
       "    </tr>\n",
       "    <tr>\n",
       "      <th>NH3</th>\n",
       "      <td>5.673469</td>\n",
       "      <td>1.0</td>\n",
       "      <td>23.0</td>\n",
       "      <td>392</td>\n",
       "    </tr>\n",
       "    <tr>\n",
       "      <th>NO2</th>\n",
       "      <td>32.687927</td>\n",
       "      <td>1.0</td>\n",
       "      <td>179.0</td>\n",
       "      <td>439</td>\n",
       "    </tr>\n",
       "    <tr>\n",
       "      <th>OZONE</th>\n",
       "      <td>47.623608</td>\n",
       "      <td>1.0</td>\n",
       "      <td>304.0</td>\n",
       "      <td>449</td>\n",
       "    </tr>\n",
       "    <tr>\n",
       "      <th>PM10</th>\n",
       "      <td>101.459207</td>\n",
       "      <td>2.0</td>\n",
       "      <td>360.0</td>\n",
       "      <td>429</td>\n",
       "    </tr>\n",
       "    <tr>\n",
       "      <th>PM2.5</th>\n",
       "      <td>83.877315</td>\n",
       "      <td>6.0</td>\n",
       "      <td>396.0</td>\n",
       "      <td>432</td>\n",
       "    </tr>\n",
       "    <tr>\n",
       "      <th>SO2</th>\n",
       "      <td>18.241706</td>\n",
       "      <td>1.0</td>\n",
       "      <td>107.0</td>\n",
       "      <td>422</td>\n",
       "    </tr>\n",
       "  </tbody>\n",
       "</table>\n",
       "</div>"
      ],
      "text/plain": [
       "             pollutant_avg                  \n",
       "                      mean  min    max count\n",
       "pollutant_id                                \n",
       "CO               36.848812  2.0  129.0   463\n",
       "NH3               5.673469  1.0   23.0   392\n",
       "NO2              32.687927  1.0  179.0   439\n",
       "OZONE            47.623608  1.0  304.0   449\n",
       "PM10            101.459207  2.0  360.0   429\n",
       "PM2.5            83.877315  6.0  396.0   432\n",
       "SO2              18.241706  1.0  107.0   422"
      ]
     },
     "execution_count": 24,
     "metadata": {},
     "output_type": "execute_result"
    }
   ],
   "source": [
    "#Summarize  pollutant distribution\n",
    "pollutant_summary = df.groupby('pollutant_id')[['pollutant_avg']].agg(['mean', 'min','max','count'])\n",
    "print(\"Pollutant summary stats\\n\")\n",
    "pollutant_summary\n"
   ]
  },
  {
   "cell_type": "code",
   "execution_count": 25,
   "metadata": {},
   "outputs": [
    {
     "name": "stdout",
     "output_type": "stream",
     "text": [
      "Lowest PM2.5 Cities:\n",
      " city\n",
      "Gadag             8.0\n",
      "Tirupur          13.0\n",
      "Palkalaiperur    14.0\n",
      "Madikeri         15.0\n",
      "Agartala         16.0\n",
      "Name: pollutant_avg, dtype: float64\n",
      "Highest PM2.5 Cities:\n",
      " city\n",
      "Hajipur          192.0\n",
      "Greater Noida    201.0\n",
      "Ghaziabad        241.5\n",
      "Siliguri         256.0\n",
      "Byrnihat         316.0\n",
      "Name: pollutant_avg, dtype: float64\n"
     ]
    }
   ],
   "source": [
    "#Top and bottom PM2.5 cities\n",
    "pm25_avg = df[df['pollutant_id'] == 'PM2.5'].groupby('city')['pollutant_avg'].mean().sort_values()\n",
    "print(\"Lowest PM2.5 Cities:\\n\", pm25_avg.head(5))\n",
    "print(\"Highest PM2.5 Cities:\\n\", pm25_avg.tail(5))"
   ]
  },
  {
   "cell_type": "code",
   "execution_count": 27,
   "metadata": {},
   "outputs": [
    {
     "data": {
      "image/png": "[encoded data removed]",
      "text/plain": [
       "<Figure size 1000x600 with 1 Axes>"
      ]
     },
     "metadata": {},
     "output_type": "display_data"
    }
   ],
   "source": [
    "#Plot 1: Top 10 PM2.5 cities\n",
    "plt.figure(figsize=(10,6))\n",
    "pm25_avg.tail(10).plot(kind='bar',color='salmon')\n",
    "plt.title('Top 10 Cities with Highest Average PM2.5')\n",
    "plt.xlabel('City')\n",
    "plt.ylabel('Average PM2.5 (μg/m³)')\n",
    "plt.xticks(rotation=45 , ha='right')\n",
    "plt.tight_layout()\n",
    "plt.savefig('../outputs/pm25_top10.png')\n",
    "plt.show()\n"
   ]
  },
  {
   "cell_type": "code",
   "execution_count": 30,
   "metadata": {},
   "outputs": [
    {
     "name": "stdout",
     "output_type": "stream",
     "text": [
      "PM2.5 by Region:\n",
      " region\n",
      "North    124.594828\n",
      "Other     78.089431\n",
      "South     36.742857\n",
      "Name: pollutant_avg, dtype: float64\n"
     ]
    }
   ],
   "source": [
    "#North vs. South comparison\n",
    "north_states = ['Delhi', 'Uttar_Pradesh', 'Bihar', 'Haryana']\n",
    "south_states = ['Karnataka', 'TamilNadu', 'Kerala', 'Andhra_Pradesh']\n",
    "df['region']= df['state'].apply(lambda x: 'North' if x in north_states else ('South' if x in south_states else 'Other'))\n",
    "pm25_region = df[df['pollutant_id']== 'PM2.5'].groupby('region')['pollutant_avg'].mean()\n",
    "print(\"PM2.5 by Region:\\n\", pm25_region)"
   ]
  },
  {
   "cell_type": "code",
   "execution_count": null,
   "metadata": {},
   "outputs": [
    {
     "data": {
      "image/png": "[encoded data removed]",
      "text/plain": [
       "<Figure size 800x500 with 1 Axes>"
      ]
     },
     "metadata": {},
     "output_type": "display_data"
    }
   ],
   "source": [
    "#Plot 2: Regional PM2.5 Comparison\n",
    "plt.figure(figsize=(8,5))\n",
    "pm25_region.plot(kind='bar', color=['blue','green', 'gray'])\n",
    "plt.title('Average PM2.5 by Region')\n",
    "plt.xlabel('Region')\n",
    "plt.ylabel('Average PM2.5 (µg/m³)')\n",
    "plt.xticks(rotation=0)\n",
    "plt.tight_layout()\n",
    "plt.savefig('../outputs/pm25_region.png')\n",
    "plt.show()\n"
   ]
  },
  {
   "cell_type": "code",
   "execution_count": 37,
   "metadata": {},
   "outputs": [
    {
     "data": {
      "image/png": "[encoded data removed]",
      "text/plain": [
       "<Figure size 800x600 with 1 Axes>"
      ]
     },
     "metadata": {},
     "output_type": "display_data"
    }
   ],
   "source": [
    "#PM2.5 variability across stations\n",
    "plt.figure(figsize=(8,6))\n",
    "sns.boxplot(x='pollutant_id', y='pollutant_avg',data= df[df['pollutant_id']=='PM2.5'])\n",
    "plt.xlabel('Pollutant')\n",
    "plt.ylabel('Average PM2.5 (µg/m³)')\n",
    "plt.tight_layout()\n",
    "plt.savefig('../outputs/pm25_boxplot.png')\n",
    "plt.show()"
   ]
  },
  {
   "cell_type": "code",
   "execution_count": null,
   "metadata": {},
   "outputs": [],
   "source": []
  }
 ],
 "metadata": {
  "kernelspec": {
   "display_name": "base",
   "language": "python",
   "name": "python3"
  },
  "language_info": {
   "codemirror_mode": {
    "name": "ipython",
    "version": 3
   },
   "file_extension": ".py",
   "mimetype": "text/x-python",
   "name": "python",
   "nbconvert_exporter": "python",
   "pygments_lexer": "ipython3",
   "version": "3.12.7"
  }
 },
 "nbformat": 4,
 "nbformat_minor": 2
}
