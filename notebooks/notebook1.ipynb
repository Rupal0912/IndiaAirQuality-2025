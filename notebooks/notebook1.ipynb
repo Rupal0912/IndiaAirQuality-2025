{
 "cells": [
  {
   "cell_type": "markdown",
   "metadata": {},
   "source": [
    "***\"Pollution Pulse: Mapping India’s Air Quality Snapshot\"***\n"
   ]
  },
  {
   "cell_type": "code",
   "execution_count": 2,
   "metadata": {},
   "outputs": [],
   "source": [
    "#import libraries\n",
    "import pandas as pd\n",
    "import matplotlib.pyplot as pyplot\n",
    "import seaborn as sns"
   ]
  },
  {
   "cell_type": "code",
   "execution_count": 4,
   "metadata": {},
   "outputs": [
    {
     "data": {
      "text/html": [
       "<div>\n",
       "<style scoped>\n",
       "    .dataframe tbody tr th:only-of-type {\n",
       "        vertical-align: middle;\n",
       "    }\n",
       "\n",
       "    .dataframe tbody tr th {\n",
       "        vertical-align: top;\n",
       "    }\n",
       "\n",
       "    .dataframe thead th {\n",
       "        text-align: right;\n",
       "    }\n",
       "</style>\n",
       "<table border=\"1\" class=\"dataframe\">\n",
       "  <thead>\n",
       "    <tr style=\"text-align: right;\">\n",
       "      <th></th>\n",
       "      <th>country</th>\n",
       "      <th>state</th>\n",
       "      <th>city</th>\n",
       "      <th>station</th>\n",
       "      <th>last_update</th>\n",
       "      <th>latitude</th>\n",
       "      <th>longitude</th>\n",
       "      <th>pollutant_id</th>\n",
       "      <th>pollutant_min</th>\n",
       "      <th>pollutant_max</th>\n",
       "      <th>pollutant_avg</th>\n",
       "    </tr>\n",
       "  </thead>\n",
       "  <tbody>\n",
       "    <tr>\n",
       "      <th>0</th>\n",
       "      <td>India</td>\n",
       "      <td>Andhra_Pradesh</td>\n",
       "      <td>Vijayawada</td>\n",
       "      <td>Kanuru, Vijayawada - APPCB</td>\n",
       "      <td>04-04-2025 14:00:00</td>\n",
       "      <td>16.486692</td>\n",
       "      <td>80.699436</td>\n",
       "      <td>OZONE</td>\n",
       "      <td>20.0</td>\n",
       "      <td>32.0</td>\n",
       "      <td>21.0</td>\n",
       "    </tr>\n",
       "    <tr>\n",
       "      <th>1</th>\n",
       "      <td>India</td>\n",
       "      <td>Andhra_Pradesh</td>\n",
       "      <td>Vijayawada</td>\n",
       "      <td>Rajiv Gandhi Park, Vijayawada - APPCB</td>\n",
       "      <td>04-04-2025 14:00:00</td>\n",
       "      <td>16.509717</td>\n",
       "      <td>80.612222</td>\n",
       "      <td>SO2</td>\n",
       "      <td>10.0</td>\n",
       "      <td>13.0</td>\n",
       "      <td>11.0</td>\n",
       "    </tr>\n",
       "    <tr>\n",
       "      <th>2</th>\n",
       "      <td>India</td>\n",
       "      <td>Andhra_Pradesh</td>\n",
       "      <td>Vijayawada</td>\n",
       "      <td>Rajiv Gandhi Park, Vijayawada - APPCB</td>\n",
       "      <td>04-04-2025 14:00:00</td>\n",
       "      <td>16.509717</td>\n",
       "      <td>80.612222</td>\n",
       "      <td>CO</td>\n",
       "      <td>30.0</td>\n",
       "      <td>41.0</td>\n",
       "      <td>32.0</td>\n",
       "    </tr>\n",
       "    <tr>\n",
       "      <th>3</th>\n",
       "      <td>India</td>\n",
       "      <td>Andhra_Pradesh</td>\n",
       "      <td>Vijayawada</td>\n",
       "      <td>Rajiv Nagar, Vijayawada - APPCB</td>\n",
       "      <td>04-04-2025 14:00:00</td>\n",
       "      <td>16.554731</td>\n",
       "      <td>80.649110</td>\n",
       "      <td>NO2</td>\n",
       "      <td>14.0</td>\n",
       "      <td>18.0</td>\n",
       "      <td>15.0</td>\n",
       "    </tr>\n",
       "    <tr>\n",
       "      <th>4</th>\n",
       "      <td>India</td>\n",
       "      <td>Andhra_Pradesh</td>\n",
       "      <td>Visakhapatnam</td>\n",
       "      <td>GVM Corporation, Visakhapatnam - APPCB</td>\n",
       "      <td>04-04-2025 14:00:00</td>\n",
       "      <td>17.720000</td>\n",
       "      <td>83.300000</td>\n",
       "      <td>NO2</td>\n",
       "      <td>28.0</td>\n",
       "      <td>68.0</td>\n",
       "      <td>43.0</td>\n",
       "    </tr>\n",
       "  </tbody>\n",
       "</table>\n",
       "</div>"
      ],
      "text/plain": [
       "  country           state           city  \\\n",
       "0   India  Andhra_Pradesh     Vijayawada   \n",
       "1   India  Andhra_Pradesh     Vijayawada   \n",
       "2   India  Andhra_Pradesh     Vijayawada   \n",
       "3   India  Andhra_Pradesh     Vijayawada   \n",
       "4   India  Andhra_Pradesh  Visakhapatnam   \n",
       "\n",
       "                                  station          last_update   latitude  \\\n",
       "0              Kanuru, Vijayawada - APPCB  04-04-2025 14:00:00  16.486692   \n",
       "1   Rajiv Gandhi Park, Vijayawada - APPCB  04-04-2025 14:00:00  16.509717   \n",
       "2   Rajiv Gandhi Park, Vijayawada - APPCB  04-04-2025 14:00:00  16.509717   \n",
       "3         Rajiv Nagar, Vijayawada - APPCB  04-04-2025 14:00:00  16.554731   \n",
       "4  GVM Corporation, Visakhapatnam - APPCB  04-04-2025 14:00:00  17.720000   \n",
       "\n",
       "   longitude pollutant_id  pollutant_min  pollutant_max  pollutant_avg  \n",
       "0  80.699436        OZONE           20.0           32.0           21.0  \n",
       "1  80.612222          SO2           10.0           13.0           11.0  \n",
       "2  80.612222           CO           30.0           41.0           32.0  \n",
       "3  80.649110          NO2           14.0           18.0           15.0  \n",
       "4  83.300000          NO2           28.0           68.0           43.0  "
      ]
     },
     "execution_count": 4,
     "metadata": {},
     "output_type": "execute_result"
    }
   ],
   "source": [
    "# load the dataset\n",
    "df= pd.read_csv(r\"C:\\Users\\Lenovo\\OneDrive\\Desktop\\AIR_QUALITY\\dataset\\air_quality.csv\")\n",
    "df.head()"
   ]
  },
  {
   "cell_type": "code",
   "execution_count": 5,
   "metadata": {},
   "outputs": [
    {
     "name": "stdout",
     "output_type": "stream",
     "text": [
      "<class 'pandas.core.frame.DataFrame'>\n",
      "RangeIndex: 3229 entries, 0 to 3228\n",
      "Data columns (total 11 columns):\n",
      " #   Column         Non-Null Count  Dtype  \n",
      "---  ------         --------------  -----  \n",
      " 0   country        3229 non-null   object \n",
      " 1   state          3229 non-null   object \n",
      " 2   city           3229 non-null   object \n",
      " 3   station        3229 non-null   object \n",
      " 4   last_update    3229 non-null   object \n",
      " 5   latitude       3229 non-null   float64\n",
      " 6   longitude      3229 non-null   float64\n",
      " 7   pollutant_id   3229 non-null   object \n",
      " 8   pollutant_min  3026 non-null   float64\n",
      " 9   pollutant_max  3026 non-null   float64\n",
      " 10  pollutant_avg  3026 non-null   float64\n",
      "dtypes: float64(5), object(6)\n",
      "memory usage: 277.6+ KB\n"
     ]
    }
   ],
   "source": [
    "#basic inspection\n",
    "df.info()"
   ]
  },
  {
   "cell_type": "code",
   "execution_count": 6,
   "metadata": {},
   "outputs": [
    {
     "data": {
      "text/html": [
       "<div>\n",
       "<style scoped>\n",
       "    .dataframe tbody tr th:only-of-type {\n",
       "        vertical-align: middle;\n",
       "    }\n",
       "\n",
       "    .dataframe tbody tr th {\n",
       "        vertical-align: top;\n",
       "    }\n",
       "\n",
       "    .dataframe thead th {\n",
       "        text-align: right;\n",
       "    }\n",
       "</style>\n",
       "<table border=\"1\" class=\"dataframe\">\n",
       "  <thead>\n",
       "    <tr style=\"text-align: right;\">\n",
       "      <th></th>\n",
       "      <th>latitude</th>\n",
       "      <th>longitude</th>\n",
       "      <th>pollutant_min</th>\n",
       "      <th>pollutant_max</th>\n",
       "      <th>pollutant_avg</th>\n",
       "    </tr>\n",
       "  </thead>\n",
       "  <tbody>\n",
       "    <tr>\n",
       "      <th>count</th>\n",
       "      <td>3229.000000</td>\n",
       "      <td>3229.000000</td>\n",
       "      <td>3026.000000</td>\n",
       "      <td>3026.000000</td>\n",
       "      <td>3026.00000</td>\n",
       "    </tr>\n",
       "    <tr>\n",
       "      <th>mean</th>\n",
       "      <td>22.154725</td>\n",
       "      <td>78.746203</td>\n",
       "      <td>22.024124</td>\n",
       "      <td>84.134171</td>\n",
       "      <td>47.08427</td>\n",
       "    </tr>\n",
       "    <tr>\n",
       "      <th>std</th>\n",
       "      <td>5.595920</td>\n",
       "      <td>4.945867</td>\n",
       "      <td>24.072022</td>\n",
       "      <td>93.823734</td>\n",
       "      <td>50.30609</td>\n",
       "    </tr>\n",
       "    <tr>\n",
       "      <th>min</th>\n",
       "      <td>8.514909</td>\n",
       "      <td>70.909168</td>\n",
       "      <td>1.000000</td>\n",
       "      <td>1.000000</td>\n",
       "      <td>1.00000</td>\n",
       "    </tr>\n",
       "    <tr>\n",
       "      <th>25%</th>\n",
       "      <td>18.910000</td>\n",
       "      <td>75.565602</td>\n",
       "      <td>5.000000</td>\n",
       "      <td>19.000000</td>\n",
       "      <td>12.00000</td>\n",
       "    </tr>\n",
       "    <tr>\n",
       "      <th>50%</th>\n",
       "      <td>23.016834</td>\n",
       "      <td>77.494094</td>\n",
       "      <td>14.000000</td>\n",
       "      <td>54.500000</td>\n",
       "      <td>31.00000</td>\n",
       "    </tr>\n",
       "    <tr>\n",
       "      <th>75%</th>\n",
       "      <td>26.786682</td>\n",
       "      <td>80.699436</td>\n",
       "      <td>31.000000</td>\n",
       "      <td>108.000000</td>\n",
       "      <td>62.00000</td>\n",
       "    </tr>\n",
       "    <tr>\n",
       "      <th>max</th>\n",
       "      <td>34.066206</td>\n",
       "      <td>94.636574</td>\n",
       "      <td>326.000000</td>\n",
       "      <td>500.000000</td>\n",
       "      <td>396.00000</td>\n",
       "    </tr>\n",
       "  </tbody>\n",
       "</table>\n",
       "</div>"
      ],
      "text/plain": [
       "          latitude    longitude  pollutant_min  pollutant_max  pollutant_avg\n",
       "count  3229.000000  3229.000000    3026.000000    3026.000000     3026.00000\n",
       "mean     22.154725    78.746203      22.024124      84.134171       47.08427\n",
       "std       5.595920     4.945867      24.072022      93.823734       50.30609\n",
       "min       8.514909    70.909168       1.000000       1.000000        1.00000\n",
       "25%      18.910000    75.565602       5.000000      19.000000       12.00000\n",
       "50%      23.016834    77.494094      14.000000      54.500000       31.00000\n",
       "75%      26.786682    80.699436      31.000000     108.000000       62.00000\n",
       "max      34.066206    94.636574     326.000000     500.000000      396.00000"
      ]
     },
     "execution_count": 6,
     "metadata": {},
     "output_type": "execute_result"
    }
   ],
   "source": [
    "df.describe()"
   ]
  },
  {
   "cell_type": "code",
   "execution_count": 7,
   "metadata": {},
   "outputs": [
    {
     "data": {
      "text/plain": [
       "country            0\n",
       "state              0\n",
       "city               0\n",
       "station            0\n",
       "last_update        0\n",
       "latitude           0\n",
       "longitude          0\n",
       "pollutant_id       0\n",
       "pollutant_min    203\n",
       "pollutant_max    203\n",
       "pollutant_avg    203\n",
       "dtype: int64"
      ]
     },
     "execution_count": 7,
     "metadata": {},
     "output_type": "execute_result"
    }
   ],
   "source": [
    "df.isnull().sum()"
   ]
  },
  {
   "cell_type": "code",
   "execution_count": 9,
   "metadata": {},
   "outputs": [
    {
     "data": {
      "text/plain": [
       "Index(['country', 'state', 'city', 'station', 'last_update', 'latitude',\n",
       "       'longitude', 'pollutant_id', 'pollutant_min', 'pollutant_max',\n",
       "       'pollutant_avg'],\n",
       "      dtype='object')"
      ]
     },
     "execution_count": 9,
     "metadata": {},
     "output_type": "execute_result"
    }
   ],
   "source": [
    "df.columns"
   ]
  },
  {
   "cell_type": "code",
   "execution_count": 8,
   "metadata": {},
   "outputs": [],
   "source": [
    "#replace \n",
    "df[['pollutant_min', 'pollutant_max', 'pollutant_avg']] = df[['pollutant_min', 'pollutant_max', 'pollutant_avg']].replace('NA', pd.NA)\n",
    "for col in ['pollutant_min', 'pollutant_max', 'pollutant_avg']:\n",
    "    df[col] = pd.to_numeric(df[col], errors='coerce')\n",
    "df = df.dropna(subset=['pollutant_min', 'pollutant_max', 'pollutant_avg'], how='all')"
   ]
  },
  {
   "cell_type": "code",
   "execution_count": 11,
   "metadata": {},
   "outputs": [
    {
     "name": "stdout",
     "output_type": "stream",
     "text": [
      "Cleaned data saved!\n"
     ]
    }
   ],
   "source": [
    "df.to_csv('../dataset/air_quality_cleaned.csv', index=False)\n",
    "print(\"Cleaned data saved!\")"
   ]
  },
  {
   "cell_type": "code",
   "execution_count": null,
   "metadata": {},
   "outputs": [],
   "source": []
  }
 ],
 "metadata": {
  "kernelspec": {
   "display_name": "base",
   "language": "python",
   "name": "python3"
  },
  "language_info": {
   "codemirror_mode": {
    "name": "ipython",
    "version": 3
   },
   "file_extension": ".py",
   "mimetype": "text/x-python",
   "name": "python",
   "nbconvert_exporter": "python",
   "pygments_lexer": "ipython3",
   "version": "3.12.7"
  }
 },
 "nbformat": 4,
 "nbformat_minor": 2
}
